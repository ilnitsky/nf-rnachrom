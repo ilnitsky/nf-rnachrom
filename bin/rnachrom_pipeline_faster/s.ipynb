{
 "cells": [
  {
   "cell_type": "code",
   "execution_count": 19,
   "id": "e67104c4-0949-4af3-a9b6-ee8ffd45a7e6",
   "metadata": {
    "collapsed": true,
    "jupyter": {
     "outputs_hidden": true
    },
    "tags": []
   },
   "outputs": [
    {
     "name": "stdout",
     "output_type": "stream",
     "text": [
      "Requirement already satisfied: pyranges in /home/ryabykhgrigory/anaconda3/envs/jupyter_env/lib/python3.10/site-packages (0.0.129)\n",
      "Requirement already satisfied: pandas in /home/ryabykhgrigory/anaconda3/envs/jupyter_env/lib/python3.10/site-packages (from pyranges) (2.1.4)\n",
      "Requirement already satisfied: ncls>=0.0.63 in /home/ryabykhgrigory/anaconda3/envs/jupyter_env/lib/python3.10/site-packages (from pyranges) (0.0.68)\n",
      "Requirement already satisfied: tabulate in /home/ryabykhgrigory/anaconda3/envs/jupyter_env/lib/python3.10/site-packages (from pyranges) (0.9.0)\n",
      "Requirement already satisfied: sorted-nearest>=0.0.33 in /home/ryabykhgrigory/anaconda3/envs/jupyter_env/lib/python3.10/site-packages (from pyranges) (0.0.39)\n",
      "Requirement already satisfied: natsort in /home/ryabykhgrigory/anaconda3/envs/jupyter_env/lib/python3.10/site-packages (from pyranges) (8.4.0)\n",
      "Requirement already satisfied: numpy in /home/ryabykhgrigory/anaconda3/envs/jupyter_env/lib/python3.10/site-packages (from ncls>=0.0.63->pyranges) (1.26.2)\n",
      "Requirement already satisfied: python-dateutil>=2.8.2 in /home/ryabykhgrigory/anaconda3/envs/jupyter_env/lib/python3.10/site-packages (from pandas->pyranges) (2.8.2)\n",
      "Requirement already satisfied: pytz>=2020.1 in /home/ryabykhgrigory/anaconda3/envs/jupyter_env/lib/python3.10/site-packages (from pandas->pyranges) (2023.3.post1)\n",
      "Requirement already satisfied: tzdata>=2022.1 in /home/ryabykhgrigory/anaconda3/envs/jupyter_env/lib/python3.10/site-packages (from pandas->pyranges) (2023.3)\n",
      "Requirement already satisfied: six>=1.5 in /home/ryabykhgrigory/anaconda3/envs/jupyter_env/lib/python3.10/site-packages (from python-dateutil>=2.8.2->pandas->pyranges) (1.16.0)\n",
      "Requirement already satisfied: pandas in /home/ryabykhgrigory/anaconda3/envs/jupyter_env/lib/python3.10/site-packages (2.1.4)\n",
      "Requirement already satisfied: numpy<2,>=1.22.4 in /home/ryabykhgrigory/anaconda3/envs/jupyter_env/lib/python3.10/site-packages (from pandas) (1.26.2)\n",
      "Requirement already satisfied: python-dateutil>=2.8.2 in /home/ryabykhgrigory/anaconda3/envs/jupyter_env/lib/python3.10/site-packages (from pandas) (2.8.2)\n",
      "Requirement already satisfied: pytz>=2020.1 in /home/ryabykhgrigory/anaconda3/envs/jupyter_env/lib/python3.10/site-packages (from pandas) (2023.3.post1)\n",
      "Requirement already satisfied: tzdata>=2022.1 in /home/ryabykhgrigory/anaconda3/envs/jupyter_env/lib/python3.10/site-packages (from pandas) (2023.3)\n",
      "Requirement already satisfied: six>=1.5 in /home/ryabykhgrigory/anaconda3/envs/jupyter_env/lib/python3.10/site-packages (from python-dateutil>=2.8.2->pandas) (1.16.0)\n",
      "Requirement already satisfied: numpy in /home/ryabykhgrigory/anaconda3/envs/jupyter_env/lib/python3.10/site-packages (1.26.2)\n",
      "Collecting ray\n",
      "  Downloading ray-2.9.0-cp310-cp310-manylinux2014_x86_64.whl.metadata (13 kB)\n",
      "Collecting click>=7.0 (from ray)\n",
      "  Downloading click-8.1.7-py3-none-any.whl.metadata (3.0 kB)\n",
      "Collecting filelock (from ray)\n",
      "  Downloading filelock-3.13.1-py3-none-any.whl.metadata (2.8 kB)\n",
      "Requirement already satisfied: jsonschema in /home/ryabykhgrigory/anaconda3/envs/jupyter_env/lib/python3.10/site-packages (from ray) (4.19.2)\n",
      "Collecting msgpack<2.0.0,>=1.0.0 (from ray)\n",
      "  Downloading msgpack-1.0.7-cp310-cp310-manylinux_2_17_x86_64.manylinux2014_x86_64.whl.metadata (9.1 kB)\n",
      "Requirement already satisfied: packaging in /home/ryabykhgrigory/anaconda3/envs/jupyter_env/lib/python3.10/site-packages (from ray) (23.2)\n",
      "Collecting protobuf!=3.19.5,>=3.15.3 (from ray)\n",
      "  Downloading protobuf-4.25.2-cp37-abi3-manylinux2014_x86_64.whl.metadata (541 bytes)\n",
      "Requirement already satisfied: pyyaml in /home/ryabykhgrigory/anaconda3/envs/jupyter_env/lib/python3.10/site-packages (from ray) (6.0.1)\n",
      "Collecting aiosignal (from ray)\n",
      "  Downloading aiosignal-1.3.1-py3-none-any.whl (7.6 kB)\n",
      "Collecting frozenlist (from ray)\n",
      "  Downloading frozenlist-1.4.1-cp310-cp310-manylinux_2_5_x86_64.manylinux1_x86_64.manylinux_2_17_x86_64.manylinux2014_x86_64.whl.metadata (12 kB)\n",
      "Requirement already satisfied: requests in /home/ryabykhgrigory/anaconda3/envs/jupyter_env/lib/python3.10/site-packages (from ray) (2.31.0)\n",
      "Requirement already satisfied: attrs>=22.2.0 in /home/ryabykhgrigory/anaconda3/envs/jupyter_env/lib/python3.10/site-packages (from jsonschema->ray) (23.1.0)\n",
      "Requirement already satisfied: jsonschema-specifications>=2023.03.6 in /home/ryabykhgrigory/anaconda3/envs/jupyter_env/lib/python3.10/site-packages (from jsonschema->ray) (2023.7.1)\n",
      "Requirement already satisfied: referencing>=0.28.4 in /home/ryabykhgrigory/anaconda3/envs/jupyter_env/lib/python3.10/site-packages (from jsonschema->ray) (0.30.2)\n",
      "Requirement already satisfied: rpds-py>=0.7.1 in /home/ryabykhgrigory/anaconda3/envs/jupyter_env/lib/python3.10/site-packages (from jsonschema->ray) (0.12.0)\n",
      "Requirement already satisfied: charset-normalizer<4,>=2 in /home/ryabykhgrigory/anaconda3/envs/jupyter_env/lib/python3.10/site-packages (from requests->ray) (3.3.2)\n",
      "Requirement already satisfied: idna<4,>=2.5 in /home/ryabykhgrigory/anaconda3/envs/jupyter_env/lib/python3.10/site-packages (from requests->ray) (3.4)\n",
      "Requirement already satisfied: urllib3<3,>=1.21.1 in /home/ryabykhgrigory/anaconda3/envs/jupyter_env/lib/python3.10/site-packages (from requests->ray) (2.1.0)\n",
      "Requirement already satisfied: certifi>=2017.4.17 in /home/ryabykhgrigory/anaconda3/envs/jupyter_env/lib/python3.10/site-packages (from requests->ray) (2023.11.17)\n",
      "Downloading ray-2.9.0-cp310-cp310-manylinux2014_x86_64.whl (64.9 MB)\n",
      "\u001b[2K   \u001b[38;2;114;156;31m━━━━━━━━━━━━━━━━━━━━━━━━━━━━━━━━━━━━━━━━\u001b[0m \u001b[32m64.9/64.9 MB\u001b[0m \u001b[31m44.7 MB/s\u001b[0m eta \u001b[36m0:00:00\u001b[0m0m eta \u001b[36m0:00:01\u001b[0m0:01\u001b[0m:01\u001b[0m\n",
      "\u001b[?25hDownloading click-8.1.7-py3-none-any.whl (97 kB)\n",
      "\u001b[2K   \u001b[38;2;114;156;31m━━━━━━━━━━━━━━━━━━━━━━━━━━━━━━━━━━━━━━━━\u001b[0m \u001b[32m97.9/97.9 kB\u001b[0m \u001b[31m7.2 MB/s\u001b[0m eta \u001b[36m0:00:00\u001b[0m\n",
      "\u001b[?25hDownloading msgpack-1.0.7-cp310-cp310-manylinux_2_17_x86_64.manylinux2014_x86_64.whl (530 kB)\n",
      "\u001b[2K   \u001b[38;2;114;156;31m━━━━━━━━━━━━━━━━━━━━━━━━━━━━━━━━━━━━━━━━\u001b[0m \u001b[32m530.8/530.8 kB\u001b[0m \u001b[31m30.1 MB/s\u001b[0m eta \u001b[36m0:00:00\u001b[0m\n",
      "\u001b[?25hDownloading protobuf-4.25.2-cp37-abi3-manylinux2014_x86_64.whl (294 kB)\n",
      "\u001b[2K   \u001b[38;2;114;156;31m━━━━━━━━━━━━━━━━━━━━━━━━━━━━━━━━━━━━━━━━\u001b[0m \u001b[32m294.6/294.6 kB\u001b[0m \u001b[31m19.9 MB/s\u001b[0m eta \u001b[36m0:00:00\u001b[0m\n",
      "\u001b[?25hDownloading frozenlist-1.4.1-cp310-cp310-manylinux_2_5_x86_64.manylinux1_x86_64.manylinux_2_17_x86_64.manylinux2014_x86_64.whl (239 kB)\n",
      "\u001b[2K   \u001b[38;2;114;156;31m━━━━━━━━━━━━━━━━━━━━━━━━━━━━━━━━━━━━━━━━\u001b[0m \u001b[32m239.5/239.5 kB\u001b[0m \u001b[31m14.2 MB/s\u001b[0m eta \u001b[36m0:00:00\u001b[0m\n",
      "\u001b[?25hDownloading filelock-3.13.1-py3-none-any.whl (11 kB)\n",
      "Installing collected packages: protobuf, msgpack, frozenlist, filelock, click, aiosignal, ray\n",
      "Successfully installed aiosignal-1.3.1 click-8.1.7 filelock-3.13.1 frozenlist-1.4.1 msgpack-1.0.7 protobuf-4.25.2 ray-2.9.0\n"
     ]
    }
   ],
   "source": [
    "!pip install pyranges\n",
    "!pip install pandas\n",
    "!pip install numpy\n",
    "!pip install ray"
   ]
  },
  {
   "cell_type": "code",
   "execution_count": 137,
   "id": "cc8c6b6c-5727-4908-b84c-d1715d8e199c",
   "metadata": {
    "tags": []
   },
   "outputs": [],
   "source": [
    "import pyranges as pr\n",
    "import pandas as pd\n",
    "import numpy as np\n",
    "import argparse\n",
    "import warnings\n",
    "\n",
    "from stats_voting import *\n",
    "from io_.schemas import *\n",
    "from io_.fileops import load_rdc, load_BED, make_pyranges_format, save_file_custom\n",
    "\n",
    "warnings.filterwarnings('ignore')\n",
    "pd.options.mode.chained_assignment = None\n"
   ]
  },
  {
   "cell_type": "code",
   "execution_count": 138,
   "id": "21a3a16b-3245-4da9-afaa-d030c7eb4c0b",
   "metadata": {
    "tags": []
   },
   "outputs": [],
   "source": [
    "rdc = '~/gpfs/test_outdir/merge/0h_1_merged.tab'\n",
    "annot = '/gpfs/anikolskaya/rnachrom_pipeline_faster/test_files/test_annot/All_RNAs_mM_DB_pipe_new.0-corrected_annot.tab'\n",
    "outdir = '~/gpfs/test_outdir'\n",
    "rna_parts = True\n",
    "no_ribo = False\n",
    "no_stat = False"
   ]
  },
  {
   "cell_type": "code",
   "execution_count": 139,
   "id": "0d390334-48b9-4f46-a583-b98012ab1ae7",
   "metadata": {
    "tags": []
   },
   "outputs": [],
   "source": [
    "def run_annotation_and_voting(rdc, annot, outdir, rna_parts, no_ribo, no_stat):\n",
    "    \"\"\"\n",
    "    Annotate RNA-parts of contacts, apply a voting procedure and remove\n",
    "    contacts derived from ribosomal DNA if specified.\n",
    "    \n",
    "    \"\"\"\n",
    "\n",
    "    d = {}\n",
    "    save_names = {'singletons':       singleton_suffix,\n",
    "                  'selected_annot':   selected_ann_suffix,\n",
    "                  'voted':            voted_suffix, \n",
    "                  'complement_annot': complement_ann_suffix,\n",
    "                  'voted_noribo':     voted_nr_suffix\n",
    "                  }\n",
    "    empty = []\n",
    "    \n",
    "    gene_ann = load_BED(annot).rename(columns={'name': 'gene_name', 'source': 'Source'})\n",
    "    gene_ann = make_pyranges_format(gene_ann, strand = True, save_old_names = False)\n",
    "\n",
    "    gene_ann.gene_length = gene_ann.lengths()\n",
    "    gene_ann = gene_ann[['gene_name', 'gene_type', 'Source', 'gene_length']]\n",
    "    \n",
    "    if rna_parts:\n",
    "        coln_rdc = rdc_BED_sample[:5] + [rdc_BED_sample[-1]]\n",
    "        coln_voted = voted_BED[:5] + voted_BED[9:13]\n",
    "    else:\n",
    "        coln_rdc = rdc_BED_sample.copy()\n",
    "        coln_voted = voted_BED\n",
    "\n",
    "    cnts = load_rdc(rdc, header = 0, names = coln_rdc, dtype = rdc_dtypes)\n",
    "    \n",
    "    cnts.drop(cnts.filter(regex='_cigar').columns, axis=1, inplace=True)\n",
    "    print(cnts)\n",
    "    cnts, old_cols = make_pyranges_format(cnts, strand = True)\n",
    "\n",
    "    d['selected_annot'], d['complement_annot'] = annotate_rdc(cnts, gene_ann, cpus = 2)\n",
    "    del gene_ann\n",
    "\n",
    "    d = dict(map(lambda item: (item[0], item[1].drop(like=\"annot$\").as_df()), d.items()))\n",
    "    save_file_custom(d['selected_annot'].iloc[:,:len(coln_voted)], outdir, rdc, save_names['selected_annot'], hdr=coln_voted)\n",
    "    d['voted'] = vote(d['selected_annot'])\n",
    "    del d['selected_annot']\n",
    "\n",
    "    cnts = cnts.as_df()\n",
    "    \n",
    "    cnts.colnames = old_cols\n",
    "\n",
    "    d['singletons'] = cnts[~cnts['id'].isin(d['voted']['id'])]\n",
    "    \n",
    "    if no_ribo:\n",
    "        d['voted_noribo'] = remove_ribo(d['voted'])\n",
    "\n",
    "    for name, dfr in d.items():\n",
    "        if not dfr.empty:\n",
    "            if name == 'singletons':\n",
    "                save_file_custom(dfr, outdir, rdc, save_names[name], hdr=coln_voted[:-3])\n",
    "            else:\n",
    "                save_file_custom(dfr.iloc[:,:len(coln_voted)], outdir, rdc, save_names[name], hdr=coln_voted)\n",
    "                    \n",
    "        else:\n",
    "            save_file_custom(dfr, outdir, rdc, save_names[name], hdr=coln_voted)\n",
    "            empty.append(name)\n",
    "\n",
    "    for empty_df in empty:\n",
    "        d.pop(empty_df, None)\n",
    "\n",
    "    if not no_stat:\n",
    "        calculate_stats(d, rdc, outdir)\n",
    "\n",
    "    return "
   ]
  },
  {
   "cell_type": "code",
   "execution_count": 140,
   "id": "625a7c25-dded-4256-bddd-250f46c182d4",
   "metadata": {
    "tags": []
   },
   "outputs": [],
   "source": [
    "def annotate_rdc(contacts: pr.PyRanges, annot: pr.PyRanges, cpus: int) -> pr.PyRanges:\n",
    "    \"\"\"\n",
    "    Create annotated genomic intervals from a RNA-DNA contacts file.\n",
    "\n",
    "    Parameters\n",
    "    ----------\n",
    "    contacts: PyRanges\n",
    "        RDC-like file converted to PyRanges\n",
    "        \n",
    "    annot: PyRanges\n",
    "        A GTF- or BED-like file converted to PyRanges\n",
    "\n",
    "    Returns\n",
    "    -------\n",
    "    PyRanges: \n",
    "         1. Intervals annotated by genes on selected strand (selected_annot)\n",
    "         2. Intervals annotated by genes on the complementing strand (complement_annot)\n",
    "\n",
    "    \"\"\"\n",
    "    \n",
    "    print(contacts.df)\n",
    "    print(annot.df)\n",
    "    all_annot = contacts.join(annot, how = 'left', strandedness = False, suffix = '_annot', nb_cpu = cpus)\n",
    "    print(all_annot.df)\n",
    "    strand_match = all_annot.Strand == all_annot.Strand_annot\n",
    "    gene_found = all_annot.gene_name != '-1'\n",
    "    \n",
    "    return all_annot[(strand_match & gene_found)], all_annot[(~strand_match & gene_found)]\n"
   ]
  },
  {
   "cell_type": "code",
   "execution_count": 141,
   "id": "9f1fd302-3c38-44c7-8ccf-78c20aef7e60",
   "metadata": {
    "tags": []
   },
   "outputs": [],
   "source": [
    "\n",
    "def vote(an_contacts: pd.DataFrame) -> pd.DataFrame:\n",
    "    \"\"\"\n",
    "    Apply voting procedure to RNA parts of contacts. In the case of unambiguous annotation \n",
    "    the preference is given to the gene with more dense coverage of RNA-parts.\n",
    "\n",
    "    \"\"\"\n",
    "    an_contacts['count'] = an_contacts['gene_name'].map(an_contacts['gene_name'].value_counts())\n",
    "    an_contacts['density'] = (an_contacts['count'] / \n",
    "                                 an_contacts['gene_length']) * 100000\n",
    "\n",
    "    if any('gencode' in s for s in an_contacts['Source'].unique()):\n",
    "        an_contacts['gencode'] = np.where(an_contacts['Source'].str.contains('gencode'), 'gencode', 'other')\n",
    "        return an_contacts.sort_values(['density', 'gencode'], ascending=(False, True)).drop_duplicates('id', keep='first').drop('gencode', axis=1)\n",
    "    \n",
    "    else:\n",
    "        return an_contacts.sort_values('density', ascending=False).drop_duplicates('id', keep='first')\n",
    "\n",
    "\n",
    "\n",
    "def remove_ribo(contacts: pd.DataFrame, ribo_list = ['rRNA', 'rRNA_pseudogene', 'rRNA_RepM']) -> pd.DataFrame:\n",
    "    \"\"\"\n",
    "    Removes contacts mapping to ribosomal DNA \n",
    "    \n",
    "    \"\"\"\n",
    "    return contacts[~contacts.gene_type.isin(ribo_list)]\n"
   ]
  },
  {
   "cell_type": "code",
   "execution_count": 142,
   "id": "d678d3cb-d5cc-4756-8db1-66069eddff3b",
   "metadata": {
    "tags": []
   },
   "outputs": [
    {
     "name": "stdout",
     "output_type": "stream",
     "text": [
      "     rna_chr    rna_bgn    rna_end               id rna_strand srr_id\n",
      "0       chr4  104731117  104731138  SRR5035944.1284         60      -\n",
      "1      chr17   39848576   39848596   SRR5035944.261         60      -\n",
      "2       chr9   45823704   45823725   SRR5035944.894         60      +\n",
      "3       chrX   59471475   59471496  SRR5035944.1391         60      +\n",
      "4       chr8  105204180  105204200   SRR5035944.281         60      -\n",
      "...      ...        ...        ...              ...        ...    ...\n",
      "2127    chr4  141489624  141489644   SRR5035946.403         60      +\n",
      "2128    chr4  134244455  134244475   SRR5035946.309         60      +\n",
      "2129   chr10   61099525   61099546   SRR5035946.255         60      +\n",
      "2130    chr4  132310347  132310368   SRR5035946.665         60      -\n",
      "2131   chr16   93878747   93878768   SRR5035946.869         60      -\n",
      "\n",
      "[2132 rows x 6 columns]\n",
      "Empty DataFrame\n",
      "Columns: []\n",
      "Index: []\n",
      "      Chromosome      Start        End      gene_name Strand  gene_type  \\\n",
      "0           chr1  120621740  120690403  2610027F03Rik      +    lincRNA   \n",
      "1           chr1  160264324  160443072        Gm36975      +  antisense   \n",
      "2           chr1   36011072   36011894  4930535G08Rik      +    lincRNA   \n",
      "3           chr1  122866042  122867773        Gm37970      +        TEC   \n",
      "4           chr1  157940385  158141318        Gm38256      +        TEC   \n",
      "...          ...        ...        ...            ...    ...        ...   \n",
      "87053       chrY   44998151   44998265    BC1_Mm_4025      -      scRNA   \n",
      "87054       chrY   33026053   33026169    BC1_Mm_3974      -      scRNA   \n",
      "87055       chrY   19022053   19022167    BC1_Mm_3932      -      scRNA   \n",
      "87056       chrY    3910615    3910706    BC1_Mm_3868      -      scRNA   \n",
      "87057       chrY     912018     912046         U6_805      -      snRNA   \n",
      "\n",
      "        Source  gene_length  \n",
      "0      gencode        68663  \n",
      "1      gencode       178748  \n",
      "2      gencode          822  \n",
      "3      gencode         1731  \n",
      "4      gencode       200933  \n",
      "...        ...          ...  \n",
      "87053  GB_repM          114  \n",
      "87054  GB_repM          116  \n",
      "87055  GB_repM          114  \n",
      "87056  GB_repM           91  \n",
      "87057  GB_repM           28  \n",
      "\n",
      "[87058 rows x 8 columns]\n"
     ]
    },
    {
     "name": "stderr",
     "output_type": "stream",
     "text": [
      "2024-01-17 01:30:00,510\tINFO worker.py:1724 -- Started a local Ray instance.\n"
     ]
    },
    {
     "name": "stdout",
     "output_type": "stream",
     "text": [
      "Empty DataFrame\n",
      "Columns: []\n",
      "Index: []\n"
     ]
    },
    {
     "ename": "AttributeError",
     "evalue": "('PyRanges object has no attribute', 'Strand')",
     "output_type": "error",
     "traceback": [
      "\u001b[0;31m---------------------------------------------------------------------------\u001b[0m",
      "\u001b[0;31mAttributeError\u001b[0m                            Traceback (most recent call last)",
      "Cell \u001b[0;32mIn[142], line 1\u001b[0m\n\u001b[0;32m----> 1\u001b[0m \u001b[43mrun_annotation_and_voting\u001b[49m\u001b[43m(\u001b[49m\u001b[43mrdc\u001b[49m\u001b[43m,\u001b[49m\u001b[43m \u001b[49m\u001b[43mannot\u001b[49m\u001b[43m,\u001b[49m\u001b[43m \u001b[49m\u001b[43moutdir\u001b[49m\u001b[43m,\u001b[49m\u001b[43m \u001b[49m\u001b[43mrna_parts\u001b[49m\u001b[43m,\u001b[49m\u001b[43m \u001b[49m\u001b[43mno_ribo\u001b[49m\u001b[43m,\u001b[49m\u001b[43m \u001b[49m\u001b[43mno_stat\u001b[49m\u001b[43m)\u001b[49m\n",
      "Cell \u001b[0;32mIn[139], line 36\u001b[0m, in \u001b[0;36mrun_annotation_and_voting\u001b[0;34m(rdc, annot, outdir, rna_parts, no_ribo, no_stat)\u001b[0m\n\u001b[1;32m     33\u001b[0m \u001b[38;5;28mprint\u001b[39m(cnts)\n\u001b[1;32m     34\u001b[0m cnts, old_cols \u001b[38;5;241m=\u001b[39m make_pyranges_format(cnts, strand \u001b[38;5;241m=\u001b[39m \u001b[38;5;28;01mTrue\u001b[39;00m)\n\u001b[0;32m---> 36\u001b[0m d[\u001b[38;5;124m'\u001b[39m\u001b[38;5;124mselected_annot\u001b[39m\u001b[38;5;124m'\u001b[39m], d[\u001b[38;5;124m'\u001b[39m\u001b[38;5;124mcomplement_annot\u001b[39m\u001b[38;5;124m'\u001b[39m] \u001b[38;5;241m=\u001b[39m \u001b[43mannotate_rdc\u001b[49m\u001b[43m(\u001b[49m\u001b[43mcnts\u001b[49m\u001b[43m,\u001b[49m\u001b[43m \u001b[49m\u001b[43mgene_ann\u001b[49m\u001b[43m,\u001b[49m\u001b[43m \u001b[49m\u001b[43mcpus\u001b[49m\u001b[43m \u001b[49m\u001b[38;5;241;43m=\u001b[39;49m\u001b[43m \u001b[49m\u001b[38;5;241;43m2\u001b[39;49m\u001b[43m)\u001b[49m\n\u001b[1;32m     37\u001b[0m \u001b[38;5;28;01mdel\u001b[39;00m gene_ann\n\u001b[1;32m     39\u001b[0m d \u001b[38;5;241m=\u001b[39m \u001b[38;5;28mdict\u001b[39m(\u001b[38;5;28mmap\u001b[39m(\u001b[38;5;28;01mlambda\u001b[39;00m item: (item[\u001b[38;5;241m0\u001b[39m], item[\u001b[38;5;241m1\u001b[39m]\u001b[38;5;241m.\u001b[39mdrop(like\u001b[38;5;241m=\u001b[39m\u001b[38;5;124m\"\u001b[39m\u001b[38;5;124mannot$\u001b[39m\u001b[38;5;124m\"\u001b[39m)\u001b[38;5;241m.\u001b[39mas_df()), d\u001b[38;5;241m.\u001b[39mitems()))\n",
      "Cell \u001b[0;32mIn[140], line 25\u001b[0m, in \u001b[0;36mannotate_rdc\u001b[0;34m(contacts, annot, cpus)\u001b[0m\n\u001b[1;32m     23\u001b[0m all_annot \u001b[38;5;241m=\u001b[39m contacts\u001b[38;5;241m.\u001b[39mjoin(annot, how \u001b[38;5;241m=\u001b[39m \u001b[38;5;124m'\u001b[39m\u001b[38;5;124mleft\u001b[39m\u001b[38;5;124m'\u001b[39m, strandedness \u001b[38;5;241m=\u001b[39m \u001b[38;5;28;01mFalse\u001b[39;00m, suffix \u001b[38;5;241m=\u001b[39m \u001b[38;5;124m'\u001b[39m\u001b[38;5;124m_annot\u001b[39m\u001b[38;5;124m'\u001b[39m, nb_cpu \u001b[38;5;241m=\u001b[39m cpus)\n\u001b[1;32m     24\u001b[0m \u001b[38;5;28mprint\u001b[39m(all_annot\u001b[38;5;241m.\u001b[39mdf)\n\u001b[0;32m---> 25\u001b[0m strand_match \u001b[38;5;241m=\u001b[39m \u001b[43mall_annot\u001b[49m\u001b[38;5;241;43m.\u001b[39;49m\u001b[43mStrand\u001b[49m \u001b[38;5;241m==\u001b[39m all_annot\u001b[38;5;241m.\u001b[39mStrand_annot\n\u001b[1;32m     26\u001b[0m gene_found \u001b[38;5;241m=\u001b[39m all_annot\u001b[38;5;241m.\u001b[39mgene_name \u001b[38;5;241m!=\u001b[39m \u001b[38;5;124m'\u001b[39m\u001b[38;5;124m-1\u001b[39m\u001b[38;5;124m'\u001b[39m\n\u001b[1;32m     28\u001b[0m \u001b[38;5;28;01mreturn\u001b[39;00m all_annot[(strand_match \u001b[38;5;241m&\u001b[39m gene_found)], all_annot[(\u001b[38;5;241m~\u001b[39mstrand_match \u001b[38;5;241m&\u001b[39m gene_found)]\n",
      "File \u001b[0;32m~/anaconda3/envs/jupyter_env/lib/python3.10/site-packages/pyranges/pyranges_main.py:265\u001b[0m, in \u001b[0;36mPyRanges.__getattr__\u001b[0;34m(self, name)\u001b[0m\n\u001b[1;32m    240\u001b[0m \u001b[38;5;250m\u001b[39m\u001b[38;5;124;03m\"\"\"Return column.\u001b[39;00m\n\u001b[1;32m    241\u001b[0m \n\u001b[1;32m    242\u001b[0m \u001b[38;5;124;03mParameters\u001b[39;00m\n\u001b[0;32m   (...)\u001b[0m\n\u001b[1;32m    260\u001b[0m \u001b[38;5;124;03mName: Start, dtype: int64\u001b[39;00m\n\u001b[1;32m    261\u001b[0m \u001b[38;5;124;03m\"\"\"\u001b[39;00m\n\u001b[1;32m    263\u001b[0m \u001b[38;5;28;01mfrom\u001b[39;00m \u001b[38;5;21;01mpyranges\u001b[39;00m\u001b[38;5;21;01m.\u001b[39;00m\u001b[38;5;21;01mmethods\u001b[39;00m\u001b[38;5;21;01m.\u001b[39;00m\u001b[38;5;21;01mattr\u001b[39;00m \u001b[38;5;28;01mimport\u001b[39;00m _getattr\n\u001b[0;32m--> 265\u001b[0m \u001b[38;5;28;01mreturn\u001b[39;00m \u001b[43m_getattr\u001b[49m\u001b[43m(\u001b[49m\u001b[38;5;28;43mself\u001b[39;49m\u001b[43m,\u001b[49m\u001b[43m \u001b[49m\u001b[43mname\u001b[49m\u001b[43m)\u001b[49m\n",
      "File \u001b[0;32m~/anaconda3/envs/jupyter_env/lib/python3.10/site-packages/pyranges/methods/attr.py:65\u001b[0m, in \u001b[0;36m_getattr\u001b[0;34m(self, name)\u001b[0m\n\u001b[1;32m     63\u001b[0m     \u001b[38;5;28;01mreturn\u001b[39;00m pd\u001b[38;5;241m.\u001b[39mconcat([df[name] \u001b[38;5;28;01mfor\u001b[39;00m df \u001b[38;5;129;01min\u001b[39;00m \u001b[38;5;28mself\u001b[39m\u001b[38;5;241m.\u001b[39mvalues()])\n\u001b[1;32m     64\u001b[0m \u001b[38;5;28;01melse\u001b[39;00m:\n\u001b[0;32m---> 65\u001b[0m     \u001b[38;5;28;01mraise\u001b[39;00m \u001b[38;5;167;01mAttributeError\u001b[39;00m(\u001b[38;5;124m\"\u001b[39m\u001b[38;5;124mPyRanges object has no attribute\u001b[39m\u001b[38;5;124m\"\u001b[39m, name)\n",
      "\u001b[0;31mAttributeError\u001b[0m: ('PyRanges object has no attribute', 'Strand')"
     ]
    }
   ],
   "source": [
    "\n",
    "run_annotation_and_voting(rdc, annot, outdir, rna_parts, no_ribo, no_stat)\n"
   ]
  },
  {
   "cell_type": "code",
   "execution_count": null,
   "id": "0e83a69d-902e-4d59-8ea8-ab7674d8139a",
   "metadata": {},
   "outputs": [],
   "source": []
  },
  {
   "cell_type": "code",
   "execution_count": null,
   "id": "f5534507-9894-4b2b-9cc1-47697644c380",
   "metadata": {},
   "outputs": [],
   "source": []
  },
  {
   "cell_type": "code",
   "execution_count": null,
   "id": "edb403cc-d628-466c-ad41-b0d3f0b0221c",
   "metadata": {},
   "outputs": [],
   "source": []
  },
  {
   "cell_type": "code",
   "execution_count": null,
   "id": "40bffcde-d9b3-4fbd-b609-59497fcf7801",
   "metadata": {},
   "outputs": [],
   "source": []
  },
  {
   "cell_type": "code",
   "execution_count": null,
   "id": "c2ab86a0-8c83-4ff6-9e25-4fa2069e37cd",
   "metadata": {},
   "outputs": [],
   "source": []
  },
  {
   "cell_type": "code",
   "execution_count": null,
   "id": "fded456d-6b62-4bff-a2f7-849e94d4cb99",
   "metadata": {},
   "outputs": [],
   "source": []
  }
 ],
 "metadata": {
  "kernelspec": {
   "display_name": "Python 3 (ipykernel)",
   "language": "python",
   "name": "python3"
  },
  "language_info": {
   "codemirror_mode": {
    "name": "ipython",
    "version": 3
   },
   "file_extension": ".py",
   "mimetype": "text/x-python",
   "name": "python",
   "nbconvert_exporter": "python",
   "pygments_lexer": "ipython3",
   "version": "3.10.13"
  }
 },
 "nbformat": 4,
 "nbformat_minor": 5
}

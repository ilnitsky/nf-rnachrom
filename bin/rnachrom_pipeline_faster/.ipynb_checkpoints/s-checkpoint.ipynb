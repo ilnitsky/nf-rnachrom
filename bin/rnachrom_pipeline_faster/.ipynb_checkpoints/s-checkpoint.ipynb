{
 "cells": [
  {
   "cell_type": "code",
   "execution_count": 19,
   "id": "e67104c4-0949-4af3-a9b6-ee8ffd45a7e6",
   "metadata": {
    "collapsed": true,
    "jupyter": {
     "outputs_hidden": true
    },
    "tags": []
   },
   "outputs": [
    {
     "name": "stdout",
     "output_type": "stream",
     "text": [
      "Requirement already satisfied: pyranges in /home/ryabykhgrigory/anaconda3/envs/jupyter_env/lib/python3.10/site-packages (0.0.129)\n",
      "Requirement already satisfied: pandas in /home/ryabykhgrigory/anaconda3/envs/jupyter_env/lib/python3.10/site-packages (from pyranges) (2.1.4)\n",
      "Requirement already satisfied: ncls>=0.0.63 in /home/ryabykhgrigory/anaconda3/envs/jupyter_env/lib/python3.10/site-packages (from pyranges) (0.0.68)\n",
      "Requirement already satisfied: tabulate in /home/ryabykhgrigory/anaconda3/envs/jupyter_env/lib/python3.10/site-packages (from pyranges) (0.9.0)\n",
      "Requirement already satisfied: sorted-nearest>=0.0.33 in /home/ryabykhgrigory/anaconda3/envs/jupyter_env/lib/python3.10/site-packages (from pyranges) (0.0.39)\n",
      "Requirement already satisfied: natsort in /home/ryabykhgrigory/anaconda3/envs/jupyter_env/lib/python3.10/site-packages (from pyranges) (8.4.0)\n",
      "Requirement already satisfied: numpy in /home/ryabykhgrigory/anaconda3/envs/jupyter_env/lib/python3.10/site-packages (from ncls>=0.0.63->pyranges) (1.26.2)\n",
      "Requirement already satisfied: python-dateutil>=2.8.2 in /home/ryabykhgrigory/anaconda3/envs/jupyter_env/lib/python3.10/site-packages (from pandas->pyranges) (2.8.2)\n",
      "Requirement already satisfied: pytz>=2020.1 in /home/ryabykhgrigory/anaconda3/envs/jupyter_env/lib/python3.10/site-packages (from pandas->pyranges) (2023.3.post1)\n",
      "Requirement already satisfied: tzdata>=2022.1 in /home/ryabykhgrigory/anaconda3/envs/jupyter_env/lib/python3.10/site-packages (from pandas->pyranges) (2023.3)\n",
      "Requirement already satisfied: six>=1.5 in /home/ryabykhgrigory/anaconda3/envs/jupyter_env/lib/python3.10/site-packages (from python-dateutil>=2.8.2->pandas->pyranges) (1.16.0)\n",
      "Requirement already satisfied: pandas in /home/ryabykhgrigory/anaconda3/envs/jupyter_env/lib/python3.10/site-packages (2.1.4)\n",
      "Requirement already satisfied: numpy<2,>=1.22.4 in /home/ryabykhgrigory/anaconda3/envs/jupyter_env/lib/python3.10/site-packages (from pandas) (1.26.2)\n",
      "Requirement already satisfied: python-dateutil>=2.8.2 in /home/ryabykhgrigory/anaconda3/envs/jupyter_env/lib/python3.10/site-packages (from pandas) (2.8.2)\n",
      "Requirement already satisfied: pytz>=2020.1 in /home/ryabykhgrigory/anaconda3/envs/jupyter_env/lib/python3.10/site-packages (from pandas) (2023.3.post1)\n",
      "Requirement already satisfied: tzdata>=2022.1 in /home/ryabykhgrigory/anaconda3/envs/jupyter_env/lib/python3.10/site-packages (from pandas) (2023.3)\n",
      "Requirement already satisfied: six>=1.5 in /home/ryabykhgrigory/anaconda3/envs/jupyter_env/lib/python3.10/site-packages (from python-dateutil>=2.8.2->pandas) (1.16.0)\n",
      "Requirement already satisfied: numpy in /home/ryabykhgrigory/anaconda3/envs/jupyter_env/lib/python3.10/site-packages (1.26.2)\n",
      "Collecting ray\n",
      "  Downloading ray-2.9.0-cp310-cp310-manylinux2014_x86_64.whl.metadata (13 kB)\n",
      "Collecting click>=7.0 (from ray)\n",
      "  Downloading click-8.1.7-py3-none-any.whl.metadata (3.0 kB)\n",
      "Collecting filelock (from ray)\n",
      "  Downloading filelock-3.13.1-py3-none-any.whl.metadata (2.8 kB)\n",
      "Requirement already satisfied: jsonschema in /home/ryabykhgrigory/anaconda3/envs/jupyter_env/lib/python3.10/site-packages (from ray) (4.19.2)\n",
      "Collecting msgpack<2.0.0,>=1.0.0 (from ray)\n",
      "  Downloading msgpack-1.0.7-cp310-cp310-manylinux_2_17_x86_64.manylinux2014_x86_64.whl.metadata (9.1 kB)\n",
      "Requirement already satisfied: packaging in /home/ryabykhgrigory/anaconda3/envs/jupyter_env/lib/python3.10/site-packages (from ray) (23.2)\n",
      "Collecting protobuf!=3.19.5,>=3.15.3 (from ray)\n",
      "  Downloading protobuf-4.25.2-cp37-abi3-manylinux2014_x86_64.whl.metadata (541 bytes)\n",
      "Requirement already satisfied: pyyaml in /home/ryabykhgrigory/anaconda3/envs/jupyter_env/lib/python3.10/site-packages (from ray) (6.0.1)\n",
      "Collecting aiosignal (from ray)\n",
      "  Downloading aiosignal-1.3.1-py3-none-any.whl (7.6 kB)\n",
      "Collecting frozenlist (from ray)\n",
      "  Downloading frozenlist-1.4.1-cp310-cp310-manylinux_2_5_x86_64.manylinux1_x86_64.manylinux_2_17_x86_64.manylinux2014_x86_64.whl.metadata (12 kB)\n",
      "Requirement already satisfied: requests in /home/ryabykhgrigory/anaconda3/envs/jupyter_env/lib/python3.10/site-packages (from ray) (2.31.0)\n",
      "Requirement already satisfied: attrs>=22.2.0 in /home/ryabykhgrigory/anaconda3/envs/jupyter_env/lib/python3.10/site-packages (from jsonschema->ray) (23.1.0)\n",
      "Requirement already satisfied: jsonschema-specifications>=2023.03.6 in /home/ryabykhgrigory/anaconda3/envs/jupyter_env/lib/python3.10/site-packages (from jsonschema->ray) (2023.7.1)\n",
      "Requirement already satisfied: referencing>=0.28.4 in /home/ryabykhgrigory/anaconda3/envs/jupyter_env/lib/python3.10/site-packages (from jsonschema->ray) (0.30.2)\n",
      "Requirement already satisfied: rpds-py>=0.7.1 in /home/ryabykhgrigory/anaconda3/envs/jupyter_env/lib/python3.10/site-packages (from jsonschema->ray) (0.12.0)\n",
      "Requirement already satisfied: charset-normalizer<4,>=2 in /home/ryabykhgrigory/anaconda3/envs/jupyter_env/lib/python3.10/site-packages (from requests->ray) (3.3.2)\n",
      "Requirement already satisfied: idna<4,>=2.5 in /home/ryabykhgrigory/anaconda3/envs/jupyter_env/lib/python3.10/site-packages (from requests->ray) (3.4)\n",
      "Requirement already satisfied: urllib3<3,>=1.21.1 in /home/ryabykhgrigory/anaconda3/envs/jupyter_env/lib/python3.10/site-packages (from requests->ray) (2.1.0)\n",
      "Requirement already satisfied: certifi>=2017.4.17 in /home/ryabykhgrigory/anaconda3/envs/jupyter_env/lib/python3.10/site-packages (from requests->ray) (2023.11.17)\n",
      "Downloading ray-2.9.0-cp310-cp310-manylinux2014_x86_64.whl (64.9 MB)\n",
      "\u001b[2K   \u001b[38;2;114;156;31m━━━━━━━━━━━━━━━━━━━━━━━━━━━━━━━━━━━━━━━━\u001b[0m \u001b[32m64.9/64.9 MB\u001b[0m \u001b[31m44.7 MB/s\u001b[0m eta \u001b[36m0:00:00\u001b[0m0m eta \u001b[36m0:00:01\u001b[0m0:01\u001b[0m:01\u001b[0m\n",
      "\u001b[?25hDownloading click-8.1.7-py3-none-any.whl (97 kB)\n",
      "\u001b[2K   \u001b[38;2;114;156;31m━━━━━━━━━━━━━━━━━━━━━━━━━━━━━━━━━━━━━━━━\u001b[0m \u001b[32m97.9/97.9 kB\u001b[0m \u001b[31m7.2 MB/s\u001b[0m eta \u001b[36m0:00:00\u001b[0m\n",
      "\u001b[?25hDownloading msgpack-1.0.7-cp310-cp310-manylinux_2_17_x86_64.manylinux2014_x86_64.whl (530 kB)\n",
      "\u001b[2K   \u001b[38;2;114;156;31m━━━━━━━━━━━━━━━━━━━━━━━━━━━━━━━━━━━━━━━━\u001b[0m \u001b[32m530.8/530.8 kB\u001b[0m \u001b[31m30.1 MB/s\u001b[0m eta \u001b[36m0:00:00\u001b[0m\n",
      "\u001b[?25hDownloading protobuf-4.25.2-cp37-abi3-manylinux2014_x86_64.whl (294 kB)\n",
      "\u001b[2K   \u001b[38;2;114;156;31m━━━━━━━━━━━━━━━━━━━━━━━━━━━━━━━━━━━━━━━━\u001b[0m \u001b[32m294.6/294.6 kB\u001b[0m \u001b[31m19.9 MB/s\u001b[0m eta \u001b[36m0:00:00\u001b[0m\n",
      "\u001b[?25hDownloading frozenlist-1.4.1-cp310-cp310-manylinux_2_5_x86_64.manylinux1_x86_64.manylinux_2_17_x86_64.manylinux2014_x86_64.whl (239 kB)\n",
      "\u001b[2K   \u001b[38;2;114;156;31m━━━━━━━━━━━━━━━━━━━━━━━━━━━━━━━━━━━━━━━━\u001b[0m \u001b[32m239.5/239.5 kB\u001b[0m \u001b[31m14.2 MB/s\u001b[0m eta \u001b[36m0:00:00\u001b[0m\n",
      "\u001b[?25hDownloading filelock-3.13.1-py3-none-any.whl (11 kB)\n",
      "Installing collected packages: protobuf, msgpack, frozenlist, filelock, click, aiosignal, ray\n",
      "Successfully installed aiosignal-1.3.1 click-8.1.7 filelock-3.13.1 frozenlist-1.4.1 msgpack-1.0.7 protobuf-4.25.2 ray-2.9.0\n"
     ]
    }
   ],
   "source": [
    "!pip install pyranges\n",
    "!pip install pandas\n",
    "!pip install numpy\n",
    "!pip install ray"
   ]
  },
  {
   "cell_type": "code",
   "execution_count": 20,
   "id": "cc8c6b6c-5727-4908-b84c-d1715d8e199c",
   "metadata": {
    "tags": []
   },
   "outputs": [],
   "source": [
    "import pyranges as pr\n",
    "import pandas as pd\n",
    "import numpy as np\n",
    "import argparse\n",
    "import warnings\n",
    "\n",
    "from stats_voting import *\n",
    "from io_.schemas import *\n",
    "from io_.fileops import load_rdc, load_BED, make_pyranges_format, save_file_custom\n",
    "\n",
    "warnings.filterwarnings('ignore')\n",
    "pd.options.mode.chained_assignment = None\n"
   ]
  },
  {
   "cell_type": "code",
   "execution_count": 21,
   "id": "21a3a16b-3245-4da9-afaa-d030c7eb4c0b",
   "metadata": {
    "tags": []
   },
   "outputs": [],
   "source": [
    "rdc = '~/gpfs/test_outdir/splicing/SRR5035944.1-CIGAR.tab'\n",
    "annot = '/gpfs/anikolskaya/rnachrom_pipeline_faster/test_files/test_annot/All_RNAs_mM_DB_pipe_new.0-corrected_annot.tab'\n",
    "outdir = '~/gpfs/ssssss'\n",
    "rna_parts = True\n",
    "no_ribo = False\n",
    "no_stat = False"
   ]
  },
  {
   "cell_type": "code",
   "execution_count": 22,
   "id": "0d390334-48b9-4f46-a583-b98012ab1ae7",
   "metadata": {
    "tags": []
   },
   "outputs": [],
   "source": [
    "def run_annotation_and_voting(rdc, annot, outdir, rna_parts, no_ribo, no_stat):\n",
    "    \"\"\"\n",
    "    Annotate RNA-parts of contacts, apply a voting procedure and remove\n",
    "    contacts derived from ribosomal DNA if specified.\n",
    "    \n",
    "    \"\"\"\n",
    "\n",
    "    d = {}\n",
    "    save_names = {'singletons':       singleton_suffix,\n",
    "                  'selected_annot':   selected_ann_suffix,\n",
    "                  'voted':            voted_suffix, \n",
    "                  'complement_annot': complement_ann_suffix,\n",
    "                  'voted_noribo':     voted_nr_suffix\n",
    "                  }\n",
    "    empty = []\n",
    "    \n",
    "    gene_ann = load_BED(annot).rename(columns={'name': 'gene_name', 'source': 'Source'})\n",
    "    gene_ann = make_pyranges_format(gene_ann, strand = True, save_old_names = False)\n",
    "\n",
    "    gene_ann.gene_length = gene_ann.lengths()\n",
    "    gene_ann = gene_ann[['gene_name', 'gene_type', 'Source', 'gene_length']]\n",
    "    \n",
    "    if rna_parts:\n",
    "        coln_rdc = rdc_BED_sample[:5] + [rdc_BED_sample[-1]]\n",
    "        coln_voted = voted_BED[:5] + voted_BED[9:13]\n",
    "    else:\n",
    "        coln_rdc = rdc_BED_sample.copy()\n",
    "        coln_voted = voted_BED\n",
    "\n",
    "    cnts = load_rdc(rdc, header = 0, names = coln_rdc, dtype = rdc_dtypes)\n",
    "    cnts.drop(cnts.filter(regex='_cigar').columns, axis=1, inplace=True)\n",
    "    cnts, old_cols = make_pyranges_format(cnts, strand = True)\n",
    "\n",
    "    d['selected_annot'], d['complement_annot'] = annotate_rdc(cnts, gene_ann, cpus = 2)\n",
    "    del gene_ann\n",
    "\n",
    "    d = dict(map(lambda item: (item[0], item[1].drop(like=\"annot$\").as_df()), d.items()))\n",
    "    save_file_custom(d['selected_annot'].iloc[:,:len(coln_voted)], outdir, rdc, save_names['selected_annot'], hdr=coln_voted)\n",
    "    d['voted'] = vote(d['selected_annot'])\n",
    "    del d['selected_annot']\n",
    "\n",
    "    cnts = cnts.as_df()\n",
    "    cnts.colnames = old_cols\n",
    "\n",
    "    d['singletons'] = cnts[~cnts['id'].isin(d['voted']['id'])]\n",
    "    \n",
    "    if no_ribo:\n",
    "        d['voted_noribo'] = remove_ribo(d['voted'])\n",
    "\n",
    "    for name, dfr in d.items():\n",
    "        if not dfr.empty:\n",
    "            if name == 'singletons':\n",
    "                save_file_custom(dfr, outdir, rdc, save_names[name], hdr=coln_voted[:-3])\n",
    "            else:\n",
    "                save_file_custom(dfr.iloc[:,:len(coln_voted)], outdir, rdc, save_names[name], hdr=coln_voted)\n",
    "                    \n",
    "        else:\n",
    "            save_file_custom(dfr, outdir, rdc, save_names[name], hdr=coln_voted)\n",
    "            empty.append(name)\n",
    "\n",
    "    for empty_df in empty:\n",
    "        d.pop(empty_df, None)\n",
    "\n",
    "    if not no_stat:\n",
    "        calculate_stats(d, rdc, outdir)\n",
    "\n",
    "    return "
   ]
  },
  {
   "cell_type": "code",
   "execution_count": 32,
   "id": "625a7c25-dded-4256-bddd-250f46c182d4",
   "metadata": {
    "tags": []
   },
   "outputs": [],
   "source": [
    "def annotate_rdc(contacts: pr.PyRanges, annot: pr.PyRanges, cpus: int) -> pr.PyRanges:\n",
    "    \"\"\"\n",
    "    Create annotated genomic intervals from a RNA-DNA contacts file.\n",
    "\n",
    "    Parameters\n",
    "    ----------\n",
    "    contacts: PyRanges\n",
    "        RDC-like file converted to PyRanges\n",
    "        \n",
    "    annot: PyRanges\n",
    "        A GTF- or BED-like file converted to PyRanges\n",
    "\n",
    "    Returns\n",
    "    -------\n",
    "    PyRanges: \n",
    "         1. Intervals annotated by genes on selected strand (selected_annot)\n",
    "         2. Intervals annotated by genes on the complementing strand (complement_annot)\n",
    "\n",
    "    \"\"\"\n",
    "    \n",
    "    print(contacts[[\"Start\", \"End\"]])\n",
    "    print(annot)\n",
    "    all_annot = contacts.join(annot, how = 'left', strandedness = False, suffix = '_annot', nb_cpu = cpus)\n",
    "    print(all_annot[[\"Strand\", \"gene_type\", \"Source\", \"gene_length\"]])\n",
    "    strand_match = all_annot.Strand == all_annot.Strand_annot\n",
    "    gene_found = all_annot.gene_name != '-1'\n",
    "    \n",
    "    return all_annot[(strand_match & gene_found)], all_annot[(~strand_match & gene_found)]\n"
   ]
  },
  {
   "cell_type": "code",
   "execution_count": 33,
   "id": "9f1fd302-3c38-44c7-8ccf-78c20aef7e60",
   "metadata": {
    "tags": []
   },
   "outputs": [],
   "source": [
    "\n",
    "def vote(an_contacts: pd.DataFrame) -> pd.DataFrame:\n",
    "    \"\"\"\n",
    "    Apply voting procedure to RNA parts of contacts. In the case of unambiguous annotation \n",
    "    the preference is given to the gene with more dense coverage of RNA-parts.\n",
    "\n",
    "    \"\"\"\n",
    "    an_contacts['count'] = an_contacts['gene_name'].map(an_contacts['gene_name'].value_counts())\n",
    "    an_contacts['density'] = (an_contacts['count'] / \n",
    "                                 an_contacts['gene_length']) * 100000\n",
    "\n",
    "    if any('gencode' in s for s in an_contacts['Source'].unique()):\n",
    "        an_contacts['gencode'] = np.where(an_contacts['Source'].str.contains('gencode'), 'gencode', 'other')\n",
    "        return an_contacts.sort_values(['density', 'gencode'], ascending=(False, True)).drop_duplicates('id', keep='first').drop('gencode', axis=1)\n",
    "    \n",
    "    else:\n",
    "        return an_contacts.sort_values('density', ascending=False).drop_duplicates('id', keep='first')\n",
    "\n",
    "\n",
    "\n",
    "def remove_ribo(contacts: pd.DataFrame, ribo_list = ['rRNA', 'rRNA_pseudogene', 'rRNA_RepM']) -> pd.DataFrame:\n",
    "    \"\"\"\n",
    "    Removes contacts mapping to ribosomal DNA \n",
    "    \n",
    "    \"\"\"\n",
    "    return contacts[~contacts.gene_type.isin(ribo_list)]\n"
   ]
  },
  {
   "cell_type": "code",
   "execution_count": 34,
   "id": "d678d3cb-d5cc-4756-8db1-66069eddff3b",
   "metadata": {
    "tags": []
   },
   "outputs": [
    {
     "name": "stdout",
     "output_type": "stream",
     "text": [
      "+--------------+-----------+-----------+--------------+\n",
      "| Chromosome   | Start     | End       | Strand       |\n",
      "| (category)   | (int64)   | (int64)   | (category)   |\n",
      "|--------------+-----------+-----------+--------------|\n",
      "| chr1         | 170736825 | 170736845 | +            |\n",
      "| chr1         | 179256181 | 179256201 | +            |\n",
      "| chr1         | 86356162  | 86356181  | +            |\n",
      "| chr1         | 133006073 | 133006093 | +            |\n",
      "| ...          | ...       | ...       | ...          |\n",
      "| chrX         | 166179369 | 166179389 | -            |\n",
      "| chrX         | 151821019 | 151821039 | -            |\n",
      "| chrX         | 103444786 | 103444806 | -            |\n",
      "| chrX         | 100243059 | 100243080 | -            |\n",
      "+--------------+-----------+-----------+--------------+\n",
      "Stranded PyRanges object has 1,093 rows and 4 columns from 21 chromosomes.\n",
      "For printing, the PyRanges was sorted on Chromosome and Strand.\n",
      "+--------------+-----------+-----------+---------------+-------+\n",
      "| Chromosome   | Start     | End       | gene_name     | +4    |\n",
      "| (category)   | (int64)   | (int64)   | (object)      | ...   |\n",
      "|--------------+-----------+-----------+---------------+-------|\n",
      "| chr1         | 120621740 | 120690403 | 2610027F03Rik | ...   |\n",
      "| chr1         | 160264324 | 160443072 | Gm36975       | ...   |\n",
      "| chr1         | 36011072  | 36011894  | 4930535G08Rik | ...   |\n",
      "| chr1         | 122866042 | 122867773 | Gm37970       | ...   |\n",
      "| ...          | ...       | ...       | ...           | ...   |\n",
      "| chrY         | 33026053  | 33026169  | BC1_Mm_3974   | ...   |\n",
      "| chrY         | 19022053  | 19022167  | BC1_Mm_3932   | ...   |\n",
      "| chrY         | 3910615   | 3910706   | BC1_Mm_3868   | ...   |\n",
      "| chrY         | 912018    | 912046    | U6_805        | ...   |\n",
      "+--------------+-----------+-----------+---------------+-------+\n",
      "Stranded PyRanges object has 87,058 rows and 8 columns from 21 chromosomes.\n",
      "For printing, the PyRanges was sorted on Chromosome and Strand.\n",
      "4 hidden columns: Strand, gene_type, Source, gene_length\n"
     ]
    },
    {
     "name": "stderr",
     "output_type": "stream",
     "text": [
      "2024-01-17 01:04:13,216\tINFO worker.py:1724 -- Started a local Ray instance.\n"
     ]
    },
    {
     "name": "stdout",
     "output_type": "stream",
     "text": [
      "+--------------+-----------+-----------+-----------------+-------+\n",
      "| Chromosome   | Start     | End       | id              | +9    |\n",
      "| (category)   | (int64)   | (int64)   | (object)        | ...   |\n",
      "|--------------+-----------+-----------+-----------------+-------|\n",
      "| chr1         | 170736825 | 170736845 | SRR5035944.1738 | ...   |\n",
      "| chr1         | 179256181 | 179256201 | SRR5035944.269  | ...   |\n",
      "| chr1         | 86356162  | 86356181  | SRR5035944.2456 | ...   |\n",
      "| chr1         | 133006073 | 133006093 | SRR5035944.328  | ...   |\n",
      "| ...          | ...       | ...       | ...             | ...   |\n",
      "| chrX         | 103444786 | 103444806 | SRR5035944.1777 | ...   |\n",
      "| chrX         | 100243059 | 100243080 | SRR5035944.60   | ...   |\n",
      "| chrX         | 134383489 | 134383509 | SRR5035944.297  | ...   |\n",
      "| chrX         | 163312114 | 163312134 | SRR5035944.1028 | ...   |\n",
      "+--------------+-----------+-----------+-----------------+-------+\n",
      "Stranded PyRanges object has 1,278 rows and 13 columns from 21 chromosomes.\n",
      "For printing, the PyRanges was sorted on Chromosome and Strand.\n",
      "9 hidden columns: Strand, srr_id, Start_annot, End_annot, gene_name, ... (+ 4 more.)\n"
     ]
    },
    {
     "ename": "OSError",
     "evalue": "Cannot save file into a non-existent directory: '/home/ryabykhgrigory/gpfs/ssssss'",
     "output_type": "error",
     "traceback": [
      "\u001b[0;31m---------------------------------------------------------------------------\u001b[0m",
      "\u001b[0;31mOSError\u001b[0m                                   Traceback (most recent call last)",
      "Cell \u001b[0;32mIn[34], line 1\u001b[0m\n\u001b[0;32m----> 1\u001b[0m \u001b[43mrun_annotation_and_voting\u001b[49m\u001b[43m(\u001b[49m\u001b[43mrdc\u001b[49m\u001b[43m,\u001b[49m\u001b[43m \u001b[49m\u001b[43mannot\u001b[49m\u001b[43m,\u001b[49m\u001b[43m \u001b[49m\u001b[43moutdir\u001b[49m\u001b[43m,\u001b[49m\u001b[43m \u001b[49m\u001b[43mrna_parts\u001b[49m\u001b[43m,\u001b[49m\u001b[43m \u001b[49m\u001b[43mno_ribo\u001b[49m\u001b[43m,\u001b[49m\u001b[43m \u001b[49m\u001b[43mno_stat\u001b[49m\u001b[43m)\u001b[49m\n",
      "Cell \u001b[0;32mIn[22], line 38\u001b[0m, in \u001b[0;36mrun_annotation_and_voting\u001b[0;34m(rdc, annot, outdir, rna_parts, no_ribo, no_stat)\u001b[0m\n\u001b[1;32m     35\u001b[0m \u001b[38;5;28;01mdel\u001b[39;00m gene_ann\n\u001b[1;32m     37\u001b[0m d \u001b[38;5;241m=\u001b[39m \u001b[38;5;28mdict\u001b[39m(\u001b[38;5;28mmap\u001b[39m(\u001b[38;5;28;01mlambda\u001b[39;00m item: (item[\u001b[38;5;241m0\u001b[39m], item[\u001b[38;5;241m1\u001b[39m]\u001b[38;5;241m.\u001b[39mdrop(like\u001b[38;5;241m=\u001b[39m\u001b[38;5;124m\"\u001b[39m\u001b[38;5;124mannot$\u001b[39m\u001b[38;5;124m\"\u001b[39m)\u001b[38;5;241m.\u001b[39mas_df()), d\u001b[38;5;241m.\u001b[39mitems()))\n\u001b[0;32m---> 38\u001b[0m \u001b[43msave_file_custom\u001b[49m\u001b[43m(\u001b[49m\u001b[43md\u001b[49m\u001b[43m[\u001b[49m\u001b[38;5;124;43m'\u001b[39;49m\u001b[38;5;124;43mselected_annot\u001b[39;49m\u001b[38;5;124;43m'\u001b[39;49m\u001b[43m]\u001b[49m\u001b[38;5;241;43m.\u001b[39;49m\u001b[43miloc\u001b[49m\u001b[43m[\u001b[49m\u001b[43m:\u001b[49m\u001b[43m,\u001b[49m\u001b[43m:\u001b[49m\u001b[38;5;28;43mlen\u001b[39;49m\u001b[43m(\u001b[49m\u001b[43mcoln_voted\u001b[49m\u001b[43m)\u001b[49m\u001b[43m]\u001b[49m\u001b[43m,\u001b[49m\u001b[43m \u001b[49m\u001b[43moutdir\u001b[49m\u001b[43m,\u001b[49m\u001b[43m \u001b[49m\u001b[43mrdc\u001b[49m\u001b[43m,\u001b[49m\u001b[43m \u001b[49m\u001b[43msave_names\u001b[49m\u001b[43m[\u001b[49m\u001b[38;5;124;43m'\u001b[39;49m\u001b[38;5;124;43mselected_annot\u001b[39;49m\u001b[38;5;124;43m'\u001b[39;49m\u001b[43m]\u001b[49m\u001b[43m,\u001b[49m\u001b[43m \u001b[49m\u001b[43mhdr\u001b[49m\u001b[38;5;241;43m=\u001b[39;49m\u001b[43mcoln_voted\u001b[49m\u001b[43m)\u001b[49m\n\u001b[1;32m     39\u001b[0m d[\u001b[38;5;124m'\u001b[39m\u001b[38;5;124mvoted\u001b[39m\u001b[38;5;124m'\u001b[39m] \u001b[38;5;241m=\u001b[39m vote(d[\u001b[38;5;124m'\u001b[39m\u001b[38;5;124mselected_annot\u001b[39m\u001b[38;5;124m'\u001b[39m])\n\u001b[1;32m     40\u001b[0m \u001b[38;5;28;01mdel\u001b[39;00m d[\u001b[38;5;124m'\u001b[39m\u001b[38;5;124mselected_annot\u001b[39m\u001b[38;5;124m'\u001b[39m]\n",
      "File \u001b[0;32m/gpfs/ryabykhgrigory/nf-core-rnachrom/bin/rnachrom_pipeline_faster/io_/fileops.py:126\u001b[0m, in \u001b[0;36msave_file_custom\u001b[0;34m(df_, outdir_, prev_path, suff, hdr, idx, save)\u001b[0m\n\u001b[1;32m    124\u001b[0m save_name \u001b[38;5;241m=\u001b[39m os\u001b[38;5;241m.\u001b[39mpath\u001b[38;5;241m.\u001b[39mjoin(outdir_, Path(prev_path)\u001b[38;5;241m.\u001b[39mstem\u001b[38;5;241m.\u001b[39mrsplit(\u001b[38;5;124m'\u001b[39m\u001b[38;5;124m.\u001b[39m\u001b[38;5;124m'\u001b[39m, maxsplit\u001b[38;5;241m=\u001b[39m\u001b[38;5;241m1\u001b[39m)[\u001b[38;5;241m0\u001b[39m] \u001b[38;5;241m+\u001b[39m suff)\n\u001b[1;32m    125\u001b[0m \u001b[38;5;28;01mif\u001b[39;00m save:\n\u001b[0;32m--> 126\u001b[0m     \u001b[43mdf_\u001b[49m\u001b[38;5;241;43m.\u001b[39;49m\u001b[43mto_csv\u001b[49m\u001b[43m(\u001b[49m\u001b[43msave_name\u001b[49m\u001b[43m,\u001b[49m\u001b[43m \u001b[49m\u001b[43msep\u001b[49m\u001b[43m \u001b[49m\u001b[38;5;241;43m=\u001b[39;49m\u001b[43m \u001b[49m\u001b[38;5;124;43m'\u001b[39;49m\u001b[38;5;130;43;01m\\t\u001b[39;49;00m\u001b[38;5;124;43m'\u001b[39;49m\u001b[43m,\u001b[49m\u001b[43m \u001b[49m\u001b[43mheader\u001b[49m\u001b[38;5;241;43m=\u001b[39;49m\u001b[43mhdr\u001b[49m\u001b[43m,\u001b[49m\u001b[43m \u001b[49m\u001b[43mindex\u001b[49m\u001b[38;5;241;43m=\u001b[39;49m\u001b[43midx\u001b[49m\u001b[43m)\u001b[49m\n\u001b[1;32m    127\u001b[0m     \u001b[38;5;28;01mreturn\u001b[39;00m\n\u001b[1;32m    128\u001b[0m \u001b[38;5;28;01melse\u001b[39;00m:\n",
      "File \u001b[0;32m~/anaconda3/envs/jupyter_env/lib/python3.10/site-packages/pandas/core/generic.py:3902\u001b[0m, in \u001b[0;36mNDFrame.to_csv\u001b[0;34m(self, path_or_buf, sep, na_rep, float_format, columns, header, index, index_label, mode, encoding, compression, quoting, quotechar, lineterminator, chunksize, date_format, doublequote, escapechar, decimal, errors, storage_options)\u001b[0m\n\u001b[1;32m   3891\u001b[0m df \u001b[38;5;241m=\u001b[39m \u001b[38;5;28mself\u001b[39m \u001b[38;5;28;01mif\u001b[39;00m \u001b[38;5;28misinstance\u001b[39m(\u001b[38;5;28mself\u001b[39m, ABCDataFrame) \u001b[38;5;28;01melse\u001b[39;00m \u001b[38;5;28mself\u001b[39m\u001b[38;5;241m.\u001b[39mto_frame()\n\u001b[1;32m   3893\u001b[0m formatter \u001b[38;5;241m=\u001b[39m DataFrameFormatter(\n\u001b[1;32m   3894\u001b[0m     frame\u001b[38;5;241m=\u001b[39mdf,\n\u001b[1;32m   3895\u001b[0m     header\u001b[38;5;241m=\u001b[39mheader,\n\u001b[0;32m   (...)\u001b[0m\n\u001b[1;32m   3899\u001b[0m     decimal\u001b[38;5;241m=\u001b[39mdecimal,\n\u001b[1;32m   3900\u001b[0m )\n\u001b[0;32m-> 3902\u001b[0m \u001b[38;5;28;01mreturn\u001b[39;00m \u001b[43mDataFrameRenderer\u001b[49m\u001b[43m(\u001b[49m\u001b[43mformatter\u001b[49m\u001b[43m)\u001b[49m\u001b[38;5;241;43m.\u001b[39;49m\u001b[43mto_csv\u001b[49m\u001b[43m(\u001b[49m\n\u001b[1;32m   3903\u001b[0m \u001b[43m    \u001b[49m\u001b[43mpath_or_buf\u001b[49m\u001b[43m,\u001b[49m\n\u001b[1;32m   3904\u001b[0m \u001b[43m    \u001b[49m\u001b[43mlineterminator\u001b[49m\u001b[38;5;241;43m=\u001b[39;49m\u001b[43mlineterminator\u001b[49m\u001b[43m,\u001b[49m\n\u001b[1;32m   3905\u001b[0m \u001b[43m    \u001b[49m\u001b[43msep\u001b[49m\u001b[38;5;241;43m=\u001b[39;49m\u001b[43msep\u001b[49m\u001b[43m,\u001b[49m\n\u001b[1;32m   3906\u001b[0m \u001b[43m    \u001b[49m\u001b[43mencoding\u001b[49m\u001b[38;5;241;43m=\u001b[39;49m\u001b[43mencoding\u001b[49m\u001b[43m,\u001b[49m\n\u001b[1;32m   3907\u001b[0m \u001b[43m    \u001b[49m\u001b[43merrors\u001b[49m\u001b[38;5;241;43m=\u001b[39;49m\u001b[43merrors\u001b[49m\u001b[43m,\u001b[49m\n\u001b[1;32m   3908\u001b[0m \u001b[43m    \u001b[49m\u001b[43mcompression\u001b[49m\u001b[38;5;241;43m=\u001b[39;49m\u001b[43mcompression\u001b[49m\u001b[43m,\u001b[49m\n\u001b[1;32m   3909\u001b[0m \u001b[43m    \u001b[49m\u001b[43mquoting\u001b[49m\u001b[38;5;241;43m=\u001b[39;49m\u001b[43mquoting\u001b[49m\u001b[43m,\u001b[49m\n\u001b[1;32m   3910\u001b[0m \u001b[43m    \u001b[49m\u001b[43mcolumns\u001b[49m\u001b[38;5;241;43m=\u001b[39;49m\u001b[43mcolumns\u001b[49m\u001b[43m,\u001b[49m\n\u001b[1;32m   3911\u001b[0m \u001b[43m    \u001b[49m\u001b[43mindex_label\u001b[49m\u001b[38;5;241;43m=\u001b[39;49m\u001b[43mindex_label\u001b[49m\u001b[43m,\u001b[49m\n\u001b[1;32m   3912\u001b[0m \u001b[43m    \u001b[49m\u001b[43mmode\u001b[49m\u001b[38;5;241;43m=\u001b[39;49m\u001b[43mmode\u001b[49m\u001b[43m,\u001b[49m\n\u001b[1;32m   3913\u001b[0m \u001b[43m    \u001b[49m\u001b[43mchunksize\u001b[49m\u001b[38;5;241;43m=\u001b[39;49m\u001b[43mchunksize\u001b[49m\u001b[43m,\u001b[49m\n\u001b[1;32m   3914\u001b[0m \u001b[43m    \u001b[49m\u001b[43mquotechar\u001b[49m\u001b[38;5;241;43m=\u001b[39;49m\u001b[43mquotechar\u001b[49m\u001b[43m,\u001b[49m\n\u001b[1;32m   3915\u001b[0m \u001b[43m    \u001b[49m\u001b[43mdate_format\u001b[49m\u001b[38;5;241;43m=\u001b[39;49m\u001b[43mdate_format\u001b[49m\u001b[43m,\u001b[49m\n\u001b[1;32m   3916\u001b[0m \u001b[43m    \u001b[49m\u001b[43mdoublequote\u001b[49m\u001b[38;5;241;43m=\u001b[39;49m\u001b[43mdoublequote\u001b[49m\u001b[43m,\u001b[49m\n\u001b[1;32m   3917\u001b[0m \u001b[43m    \u001b[49m\u001b[43mescapechar\u001b[49m\u001b[38;5;241;43m=\u001b[39;49m\u001b[43mescapechar\u001b[49m\u001b[43m,\u001b[49m\n\u001b[1;32m   3918\u001b[0m \u001b[43m    \u001b[49m\u001b[43mstorage_options\u001b[49m\u001b[38;5;241;43m=\u001b[39;49m\u001b[43mstorage_options\u001b[49m\u001b[43m,\u001b[49m\n\u001b[1;32m   3919\u001b[0m \u001b[43m\u001b[49m\u001b[43m)\u001b[49m\n",
      "File \u001b[0;32m~/anaconda3/envs/jupyter_env/lib/python3.10/site-packages/pandas/io/formats/format.py:1152\u001b[0m, in \u001b[0;36mDataFrameRenderer.to_csv\u001b[0;34m(self, path_or_buf, encoding, sep, columns, index_label, mode, compression, quoting, quotechar, lineterminator, chunksize, date_format, doublequote, escapechar, errors, storage_options)\u001b[0m\n\u001b[1;32m   1131\u001b[0m     created_buffer \u001b[38;5;241m=\u001b[39m \u001b[38;5;28;01mFalse\u001b[39;00m\n\u001b[1;32m   1133\u001b[0m csv_formatter \u001b[38;5;241m=\u001b[39m CSVFormatter(\n\u001b[1;32m   1134\u001b[0m     path_or_buf\u001b[38;5;241m=\u001b[39mpath_or_buf,\n\u001b[1;32m   1135\u001b[0m     lineterminator\u001b[38;5;241m=\u001b[39mlineterminator,\n\u001b[0;32m   (...)\u001b[0m\n\u001b[1;32m   1150\u001b[0m     formatter\u001b[38;5;241m=\u001b[39m\u001b[38;5;28mself\u001b[39m\u001b[38;5;241m.\u001b[39mfmt,\n\u001b[1;32m   1151\u001b[0m )\n\u001b[0;32m-> 1152\u001b[0m \u001b[43mcsv_formatter\u001b[49m\u001b[38;5;241;43m.\u001b[39;49m\u001b[43msave\u001b[49m\u001b[43m(\u001b[49m\u001b[43m)\u001b[49m\n\u001b[1;32m   1154\u001b[0m \u001b[38;5;28;01mif\u001b[39;00m created_buffer:\n\u001b[1;32m   1155\u001b[0m     \u001b[38;5;28;01massert\u001b[39;00m \u001b[38;5;28misinstance\u001b[39m(path_or_buf, StringIO)\n",
      "File \u001b[0;32m~/anaconda3/envs/jupyter_env/lib/python3.10/site-packages/pandas/io/formats/csvs.py:247\u001b[0m, in \u001b[0;36mCSVFormatter.save\u001b[0;34m(self)\u001b[0m\n\u001b[1;32m    243\u001b[0m \u001b[38;5;250m\u001b[39m\u001b[38;5;124;03m\"\"\"\u001b[39;00m\n\u001b[1;32m    244\u001b[0m \u001b[38;5;124;03mCreate the writer & save.\u001b[39;00m\n\u001b[1;32m    245\u001b[0m \u001b[38;5;124;03m\"\"\"\u001b[39;00m\n\u001b[1;32m    246\u001b[0m \u001b[38;5;66;03m# apply compression and byte/text conversion\u001b[39;00m\n\u001b[0;32m--> 247\u001b[0m \u001b[38;5;28;01mwith\u001b[39;00m \u001b[43mget_handle\u001b[49m\u001b[43m(\u001b[49m\n\u001b[1;32m    248\u001b[0m \u001b[43m    \u001b[49m\u001b[38;5;28;43mself\u001b[39;49m\u001b[38;5;241;43m.\u001b[39;49m\u001b[43mfilepath_or_buffer\u001b[49m\u001b[43m,\u001b[49m\n\u001b[1;32m    249\u001b[0m \u001b[43m    \u001b[49m\u001b[38;5;28;43mself\u001b[39;49m\u001b[38;5;241;43m.\u001b[39;49m\u001b[43mmode\u001b[49m\u001b[43m,\u001b[49m\n\u001b[1;32m    250\u001b[0m \u001b[43m    \u001b[49m\u001b[43mencoding\u001b[49m\u001b[38;5;241;43m=\u001b[39;49m\u001b[38;5;28;43mself\u001b[39;49m\u001b[38;5;241;43m.\u001b[39;49m\u001b[43mencoding\u001b[49m\u001b[43m,\u001b[49m\n\u001b[1;32m    251\u001b[0m \u001b[43m    \u001b[49m\u001b[43merrors\u001b[49m\u001b[38;5;241;43m=\u001b[39;49m\u001b[38;5;28;43mself\u001b[39;49m\u001b[38;5;241;43m.\u001b[39;49m\u001b[43merrors\u001b[49m\u001b[43m,\u001b[49m\n\u001b[1;32m    252\u001b[0m \u001b[43m    \u001b[49m\u001b[43mcompression\u001b[49m\u001b[38;5;241;43m=\u001b[39;49m\u001b[38;5;28;43mself\u001b[39;49m\u001b[38;5;241;43m.\u001b[39;49m\u001b[43mcompression\u001b[49m\u001b[43m,\u001b[49m\n\u001b[1;32m    253\u001b[0m \u001b[43m    \u001b[49m\u001b[43mstorage_options\u001b[49m\u001b[38;5;241;43m=\u001b[39;49m\u001b[38;5;28;43mself\u001b[39;49m\u001b[38;5;241;43m.\u001b[39;49m\u001b[43mstorage_options\u001b[49m\u001b[43m,\u001b[49m\n\u001b[1;32m    254\u001b[0m \u001b[43m\u001b[49m\u001b[43m)\u001b[49m \u001b[38;5;28;01mas\u001b[39;00m handles:\n\u001b[1;32m    255\u001b[0m     \u001b[38;5;66;03m# Note: self.encoding is irrelevant here\u001b[39;00m\n\u001b[1;32m    256\u001b[0m     \u001b[38;5;28mself\u001b[39m\u001b[38;5;241m.\u001b[39mwriter \u001b[38;5;241m=\u001b[39m csvlib\u001b[38;5;241m.\u001b[39mwriter(\n\u001b[1;32m    257\u001b[0m         handles\u001b[38;5;241m.\u001b[39mhandle,\n\u001b[1;32m    258\u001b[0m         lineterminator\u001b[38;5;241m=\u001b[39m\u001b[38;5;28mself\u001b[39m\u001b[38;5;241m.\u001b[39mlineterminator,\n\u001b[0;32m   (...)\u001b[0m\n\u001b[1;32m    263\u001b[0m         quotechar\u001b[38;5;241m=\u001b[39m\u001b[38;5;28mself\u001b[39m\u001b[38;5;241m.\u001b[39mquotechar,\n\u001b[1;32m    264\u001b[0m     )\n\u001b[1;32m    266\u001b[0m     \u001b[38;5;28mself\u001b[39m\u001b[38;5;241m.\u001b[39m_save()\n",
      "File \u001b[0;32m~/anaconda3/envs/jupyter_env/lib/python3.10/site-packages/pandas/io/common.py:739\u001b[0m, in \u001b[0;36mget_handle\u001b[0;34m(path_or_buf, mode, encoding, compression, memory_map, is_text, errors, storage_options)\u001b[0m\n\u001b[1;32m    737\u001b[0m \u001b[38;5;66;03m# Only for write methods\u001b[39;00m\n\u001b[1;32m    738\u001b[0m \u001b[38;5;28;01mif\u001b[39;00m \u001b[38;5;124m\"\u001b[39m\u001b[38;5;124mr\u001b[39m\u001b[38;5;124m\"\u001b[39m \u001b[38;5;129;01mnot\u001b[39;00m \u001b[38;5;129;01min\u001b[39;00m mode \u001b[38;5;129;01mand\u001b[39;00m is_path:\n\u001b[0;32m--> 739\u001b[0m     \u001b[43mcheck_parent_directory\u001b[49m\u001b[43m(\u001b[49m\u001b[38;5;28;43mstr\u001b[39;49m\u001b[43m(\u001b[49m\u001b[43mhandle\u001b[49m\u001b[43m)\u001b[49m\u001b[43m)\u001b[49m\n\u001b[1;32m    741\u001b[0m \u001b[38;5;28;01mif\u001b[39;00m compression:\n\u001b[1;32m    742\u001b[0m     \u001b[38;5;28;01mif\u001b[39;00m compression \u001b[38;5;241m!=\u001b[39m \u001b[38;5;124m\"\u001b[39m\u001b[38;5;124mzstd\u001b[39m\u001b[38;5;124m\"\u001b[39m:\n\u001b[1;32m    743\u001b[0m         \u001b[38;5;66;03m# compression libraries do not like an explicit text-mode\u001b[39;00m\n",
      "File \u001b[0;32m~/anaconda3/envs/jupyter_env/lib/python3.10/site-packages/pandas/io/common.py:604\u001b[0m, in \u001b[0;36mcheck_parent_directory\u001b[0;34m(path)\u001b[0m\n\u001b[1;32m    602\u001b[0m parent \u001b[38;5;241m=\u001b[39m Path(path)\u001b[38;5;241m.\u001b[39mparent\n\u001b[1;32m    603\u001b[0m \u001b[38;5;28;01mif\u001b[39;00m \u001b[38;5;129;01mnot\u001b[39;00m parent\u001b[38;5;241m.\u001b[39mis_dir():\n\u001b[0;32m--> 604\u001b[0m     \u001b[38;5;28;01mraise\u001b[39;00m \u001b[38;5;167;01mOSError\u001b[39;00m(\u001b[38;5;124mrf\u001b[39m\u001b[38;5;124m\"\u001b[39m\u001b[38;5;124mCannot save file into a non-existent directory: \u001b[39m\u001b[38;5;124m'\u001b[39m\u001b[38;5;132;01m{\u001b[39;00mparent\u001b[38;5;132;01m}\u001b[39;00m\u001b[38;5;124m'\u001b[39m\u001b[38;5;124m\"\u001b[39m)\n",
      "\u001b[0;31mOSError\u001b[0m: Cannot save file into a non-existent directory: '/home/ryabykhgrigory/gpfs/ssssss'"
     ]
    }
   ],
   "source": [
    "\n",
    "run_annotation_and_voting(rdc, annot, outdir, rna_parts, no_ribo, no_stat)\n"
   ]
  },
  {
   "cell_type": "code",
   "execution_count": null,
   "id": "0e83a69d-902e-4d59-8ea8-ab7674d8139a",
   "metadata": {},
   "outputs": [],
   "source": []
  }
 ],
 "metadata": {
  "kernelspec": {
   "display_name": "Python 3 (ipykernel)",
   "language": "python",
   "name": "python3"
  },
  "language_info": {
   "codemirror_mode": {
    "name": "ipython",
    "version": 3
   },
   "file_extension": ".py",
   "mimetype": "text/x-python",
   "name": "python",
   "nbconvert_exporter": "python",
   "pygments_lexer": "ipython3",
   "version": "3.10.13"
  }
 },
 "nbformat": 4,
 "nbformat_minor": 5
}
